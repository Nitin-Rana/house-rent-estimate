{
 "cells": [
  {
   "cell_type": "code",
   "execution_count": 1,
   "metadata": {
    "id": "k_qNza9xAqBF"
   },
   "outputs": [],
   "source": [
    "import pandas as pd\n",
    "import numpy as np\n",
    "import matplotlib.pyplot as plt\n",
    "from IPython.display import clear_output\n",
    "\n",
    "from sklearn.model_selection import train_test_split,cross_val_score,ShuffleSplit,GridSearchCV\n",
    "from sklearn.linear_model import LinearRegression, Ridge, Lasso\n",
    "from sklearn.metrics import mean_absolute_error\n",
    "from sklearn.preprocessing import StandardScaler\n",
    "from sklearn.ensemble import RandomForestRegressor"
   ]
  },
  {
   "cell_type": "code",
   "execution_count": 3,
   "metadata": {
    "id": "9KnBHyMWAqBO"
   },
   "outputs": [],
   "source": [
    "df_train = pd.read_csv(\"houses_to_rent_train.csv\")\n",
    "df_val = pd.read_csv(\"houses_to_rent_val.csv\")\n",
    "df_test = pd.read_csv(\"houses_to_rent_test.csv\")"
   ]
  },
  {
   "cell_type": "code",
   "execution_count": 4,
   "metadata": {
    "id": "sTInFjuPAqBO"
   },
   "outputs": [],
   "source": [
    "df_train_dum = pd.get_dummies(df_train)\n",
    "df_val_dum = pd.get_dummies(df_val)\n",
    "df_test_dum = pd.get_dummies(df_test)"
   ]
  },
  {
   "cell_type": "code",
   "execution_count": 5,
   "metadata": {
    "id": "wG9RQ7ecAqBP"
   },
   "outputs": [],
   "source": [
    "X_train = df_train_dum.drop('rent',axis=1)\n",
    "X_val = df_val_dum.drop('rent',axis=1)\n",
    "X_test = df_test_dum.drop('rent',axis=1)\n",
    "y_train = df_train_dum['rent'].values\n",
    "y_val = df_val_dum['rent'].values\n",
    "y_test = df_test_dum['rent'].values"
   ]
  },
  {
   "cell_type": "markdown",
   "metadata": {
    "id": "IBxMkP4IAqBP"
   },
   "source": [
    "Linear regression"
   ]
  },
  {
   "cell_type": "code",
   "execution_count": 8,
   "metadata": {
    "colab": {
     "base_uri": "https://localhost:8080/"
    },
    "id": "Evy4XpJfAqBP",
    "outputId": "d4ec7616-654c-4f41-c900-762b7259d558"
   },
   "outputs": [
    {
     "data": {
      "text/plain": [
       "LinearRegression(copy_X=True, fit_intercept=True, n_jobs=None, normalize=False)"
      ]
     },
     "execution_count": 8,
     "metadata": {
      "tags": []
     },
     "output_type": "execute_result"
    }
   ],
   "source": [
    "LRegression = LinearRegression()\n",
    "LRegression.fit(X_train,y_train)"
   ]
  },
  {
   "cell_type": "code",
   "execution_count": 9,
   "metadata": {
    "colab": {
     "base_uri": "https://localhost:8080/"
    },
    "id": "DsEULr5KAqBQ",
    "outputId": "67c5ecfc-377b-4259-81cb-af878c4e5f1c"
   },
   "outputs": [
    {
     "name": "stdout",
     "output_type": "stream",
     "text": [
      "mean absolute error(Validation Set) for Linear Regression: $ 232.45932174371683\n"
     ]
    }
   ],
   "source": [
    "y_val_pred_LReg = LRegression.predict(X_val)\n",
    "mea_LReg_val = mean_absolute_error(y_val,y_val_pred_LReg)\n",
    "print(\"mean absolute error(Validation Set) for Linear Regression: $\",mea_LReg_val)"
   ]
  },
  {
   "cell_type": "markdown",
   "metadata": {
    "id": "IZSw3y5hAqBR"
   },
   "source": [
    "Lasso Regression"
   ]
  },
  {
   "cell_type": "code",
   "execution_count": 10,
   "metadata": {
    "colab": {
     "base_uri": "https://localhost:8080/"
    },
    "id": "xuOQbBlcAqBR",
    "outputId": "0256bf8c-c444-4665-bc56-19de42c372ff"
   },
   "outputs": [
    {
     "data": {
      "text/plain": [
       "Lasso(alpha=1.0, copy_X=True, fit_intercept=True, max_iter=1000, normalize=True,\n",
       "      positive=False, precompute=False, random_state=None, selection='cyclic',\n",
       "      tol=0.0001, warm_start=False)"
      ]
     },
     "execution_count": 10,
     "metadata": {
      "tags": []
     },
     "output_type": "execute_result"
    }
   ],
   "source": [
    "LassoRegression = Lasso(normalize=True)\n",
    "LassoRegression.fit(X_train,y_train)"
   ]
  },
  {
   "cell_type": "code",
   "execution_count": 11,
   "metadata": {
    "colab": {
     "base_uri": "https://localhost:8080/"
    },
    "id": "Knep0ejpAqBR",
    "outputId": "cf0e7af2-1ab3-4800-c20e-50ad064530f5"
   },
   "outputs": [
    {
     "name": "stdout",
     "output_type": "stream",
     "text": [
      "mean absolute error(Validation Set) for Base Lasso Regression: $ 287.8514478552928\n"
     ]
    }
   ],
   "source": [
    "y_val_pred_LassoReg = LassoRegression.predict(X_val)\n",
    "mea_LassoReg_val = mean_absolute_error(y_val,y_val_pred_LassoReg)\n",
    "print(\"mean absolute error(Validation Set) for Base Lasso Regression: $\",mea_LassoReg_val)"
   ]
  },
  {
   "cell_type": "code",
   "execution_count": 12,
   "metadata": {
    "id": "MK0IAEeAAqBS"
   },
   "outputs": [],
   "source": [
    "LsR_alpha = []\n",
    "LsR_error = []\n",
    "alpha_values = np.linspace(3.9,4.0,1000)\n",
    "for alpha in alpha_values:\n",
    "    print(alpha)\n",
    "    LsR_alpha.append(alpha)\n",
    "    LassoRegression = Lasso(alpha=alpha/100,normalize=True)\n",
    "    LassoRegression.fit(X_train,y_train)\n",
    "    y_val_pred_LassoReg = LassoRegression.predict(X_val)\n",
    "    LsR_error.append(mean_absolute_error(y_val,y_val_pred_LassoReg))\n",
    "clear_output()"
   ]
  },
  {
   "cell_type": "code",
   "execution_count": 13,
   "metadata": {
    "colab": {
     "base_uri": "https://localhost:8080/",
     "height": 294
    },
    "id": "zBy4J5c-AqBS",
    "outputId": "c0ce7979-d923-481a-f167-da9ae6f74cad",
    "scrolled": false
   },
   "outputs": [
    {
     "data": {
      "text/plain": [
       "[<matplotlib.lines.Line2D at 0x7ff2e72cd588>]"
      ]
     },
     "execution_count": 13,
     "metadata": {
      "tags": []
     },
     "output_type": "execute_result"
    },
    {
     "data": {
      "image/png": "[encoded data removed]",
      "text/plain": [
       "<Figure size 432x288 with 1 Axes>"
      ]
     },
     "metadata": {
      "needs_background": "light",
      "tags": []
     },
     "output_type": "display_data"
    }
   ],
   "source": [
    "plt.plot(LsR_alpha,LsR_error)"
   ]
  },
  {
   "cell_type": "code",
   "execution_count": 14,
   "metadata": {
    "id": "hZes2_DSAqBS"
   },
   "outputs": [],
   "source": [
    "LsR_ErrorTable = []\n",
    "for i in range(len(LsR_alpha)):\n",
    "    LsR_err_Log = dict()\n",
    "    LsR_err_Log['LsR_alpha'] = LsR_alpha[i]\n",
    "    LsR_err_Log['LsR_error'] = LsR_error[i]\n",
    "    LsR_ErrorTable.append(LsR_err_Log)"
   ]
  },
  {
   "cell_type": "code",
   "execution_count": 15,
   "metadata": {
    "id": "fl9Ix1KSAqBT"
   },
   "outputs": [],
   "source": [
    "df_LsR_ErrTB = pd.DataFrame(LsR_ErrorTable)"
   ]
  },
  {
   "cell_type": "code",
   "execution_count": 16,
   "metadata": {
    "colab": {
     "base_uri": "https://localhost:8080/",
     "height": 76
    },
    "id": "ZqFR9LpIAqBT",
    "outputId": "9e3f7104-8e4c-42c3-e7f3-0ffb86855573"
   },
   "outputs": [
    {
     "data": {
      "text/html": [
       "<div>\n",
       "<style scoped>\n",
       "    .dataframe tbody tr th:only-of-type {\n",
       "        vertical-align: middle;\n",
       "    }\n",
       "\n",
       "    .dataframe tbody tr th {\n",
       "        vertical-align: top;\n",
       "    }\n",
       "\n",
       "    .dataframe thead th {\n",
       "        text-align: right;\n",
       "    }\n",
       "</style>\n",
       "<table border=\"1\" class=\"dataframe\">\n",
       "  <thead>\n",
       "    <tr style=\"text-align: right;\">\n",
       "      <th></th>\n",
       "      <th>LsR_alpha</th>\n",
       "      <th>LsR_error</th>\n",
       "    </tr>\n",
       "  </thead>\n",
       "  <tbody>\n",
       "    <tr>\n",
       "      <th>101</th>\n",
       "      <td>3.91011</td>\n",
       "      <td>232.029173</td>\n",
       "    </tr>\n",
       "  </tbody>\n",
       "</table>\n",
       "</div>"
      ],
      "text/plain": [
       "     LsR_alpha   LsR_error\n",
       "101    3.91011  232.029173"
      ]
     },
     "execution_count": 16,
     "metadata": {
      "tags": []
     },
     "output_type": "execute_result"
    }
   ],
   "source": [
    "df_LsR_ErrTB[df_LsR_ErrTB.LsR_error == df_LsR_ErrTB.LsR_error.min()]"
   ]
  },
  {
   "cell_type": "markdown",
   "metadata": {
    "id": "8cNZF6OoAqBT"
   },
   "source": [
    "Random Forest Regressor"
   ]
  },
  {
   "cell_type": "code",
   "execution_count": null,
   "metadata": {
    "id": "48cSp-qNAqBU",
    "scrolled": true
   },
   "outputs": [],
   "source": [
    "RfRegressor = RandomForestRegressor(criterion=\"mae\")\n",
    "RfRegressor.fit(X_train,y_train)"
   ]
  },
  {
   "cell_type": "code",
   "execution_count": 7,
   "metadata": {
    "colab": {
     "base_uri": "https://localhost:8080/"
    },
    "id": "0YEAScgPAqBU",
    "outputId": "2879c348-a233-4ac9-9f40-5e235883bce1",
    "scrolled": true
   },
   "outputs": [
    {
     "name": "stdout",
     "output_type": "stream",
     "text": [
      "mean absolute error(Validation Set) for Base Random Forest Regression: $ 67.79030125195618\n"
     ]
    },
    {
     "name": "stderr",
     "output_type": "stream",
     "text": [
      "[Parallel(n_jobs=1)]: Using backend SequentialBackend with 1 concurrent workers.\n",
      "[Parallel(n_jobs=1)]: Done   1 out of   1 | elapsed:    0.0s remaining:    0.0s\n",
      "[Parallel(n_jobs=1)]: Done   2 out of   2 | elapsed:    0.0s remaining:    0.0s\n",
      "[Parallel(n_jobs=1)]: Done   3 out of   3 | elapsed:    0.0s remaining:    0.0s\n",
      "[Parallel(n_jobs=1)]: Done   4 out of   4 | elapsed:    0.0s remaining:    0.0s\n",
      "[Parallel(n_jobs=1)]: Done   5 out of   5 | elapsed:    0.0s remaining:    0.0s\n",
      "[Parallel(n_jobs=1)]: Done   6 out of   6 | elapsed:    0.0s remaining:    0.0s\n",
      "[Parallel(n_jobs=1)]: Done   7 out of   7 | elapsed:    0.0s remaining:    0.0s\n",
      "[Parallel(n_jobs=1)]: Done   8 out of   8 | elapsed:    0.0s remaining:    0.0s\n",
      "[Parallel(n_jobs=1)]: Done   9 out of   9 | elapsed:    0.0s remaining:    0.0s\n",
      "[Parallel(n_jobs=1)]: Done 100 out of 100 | elapsed:    0.1s finished\n"
     ]
    }
   ],
   "source": [
    "y_val_pred_RfReg = RfRegressor.predict(X_val)\n",
    "mea_RfReg_val = mean_absolute_error(y_val,y_val_pred_RfReg)\n",
    "print(\"mean absolute error(Validation Set) for Base Random Forest Regression: $\",mea_RfReg_val)"
   ]
  },
  {
   "cell_type": "markdown",
   "metadata": {
    "id": "WP4_MhpRAqBV"
   },
   "source": [
    "Test Data set"
   ]
  },
  {
   "cell_type": "code",
   "execution_count": 17,
   "metadata": {
    "colab": {
     "base_uri": "https://localhost:8080/"
    },
    "id": "v7GnUkOEAqBV",
    "outputId": "786cb854-db5c-4436-d19c-e6a740ad1a5b"
   },
   "outputs": [
    {
     "data": {
      "text/plain": [
       "Lasso(alpha=3.91011, copy_X=True, fit_intercept=True, max_iter=1000,\n",
       "      normalize=True, positive=False, precompute=False, random_state=None,\n",
       "      selection='cyclic', tol=0.0001, warm_start=False)"
      ]
     },
     "execution_count": 17,
     "metadata": {
      "tags": []
     },
     "output_type": "execute_result"
    }
   ],
   "source": [
    "#Best Model\n",
    "LassoRegression = Lasso(alpha=3.91011,normalize=True)\n",
    "LassoRegression.fit(X_train,y_train)"
   ]
  },
  {
   "cell_type": "code",
   "execution_count": null,
   "metadata": {
    "colab": {
     "base_uri": "https://localhost:8080/"
    },
    "id": "rVFYSz2-AqBW",
    "outputId": "8536169c-615d-418f-c41f-54454d12cc3b",
    "scrolled": true
   },
   "outputs": [],
   "source": [
    "y_test_pred_LReg = LRegression.predict(X_test)\n",
    "y_test_pred_LassoReg = LassoRegression.predict(X_test)\n",
    "y_test_pred_RfReg = RfRegressor.predict(X_test)"
   ]
  },
  {
   "cell_type": "code",
   "execution_count": 19,
   "metadata": {
    "id": "dQl_eTMzAqBW"
   },
   "outputs": [],
   "source": [
    "mea_LReg_test = mean_absolute_error(y_test,y_test_pred_LReg)\n",
    "mea_LassoReg_test = mean_absolute_error(y_test,y_test_pred_LReg)\n",
    "mea_RfReg_test = mean_absolute_error(y_test,y_test_pred_RfReg)"
   ]
  },
  {
   "cell_type": "code",
   "execution_count": 20,
   "metadata": {
    "colab": {
     "base_uri": "https://localhost:8080/"
    },
    "id": "KPBACgWaAqBW",
    "outputId": "37248277-e223-4856-8e4d-17188d3281d9"
   },
   "outputs": [
    {
     "name": "stdout",
     "output_type": "stream",
     "text": [
      "mean absolute error(Test Set) for base Linear Regression: $ 240.49317779314038\n",
      "mean absolute error(Test Set) for Best Lasso Regression: $ 240.49317779314038\n",
      "mean absolute error(Test Set) for base Random Forest Regression: $ 67.75340492957746\n"
     ]
    }
   ],
   "source": [
    "print(\"mean absolute error(Test Set) for base Linear Regression: $\",mea_LReg_test)\n",
    "print(\"mean absolute error(Test Set) for Best Lasso Regression: $\",mea_LassoReg_test)\n",
    "print(\"mean absolute error(Test Set) for base Random Forest Regression: $\",mea_RfReg_test)"
   ]
  }
 ],
 "metadata": {
  "accelerator": "TPU",
  "colab": {
   "collapsed_sections": [],
   "name": "Data Model Building HR",
   "provenance": []
  },
  "kernelspec": {
   "display_name": "Python 3",
   "language": "python",
   "name": "python3"
  },
  "language_info": {
   "codemirror_mode": {
    "name": "ipython",
    "version": 3
   },
   "file_extension": ".py",
   "mimetype": "text/x-python",
   "name": "python",
   "nbconvert_exporter": "python",
   "pygments_lexer": "ipython3",
   "version": "3.7.3"
  }
 },
 "nbformat": 4,
 "nbformat_minor": 1
}
